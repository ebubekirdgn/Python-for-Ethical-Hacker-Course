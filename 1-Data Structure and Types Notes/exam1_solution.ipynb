{
 "cells": [
  {
   "cell_type": "code",
   "execution_count": null,
   "id": "045aac94",
   "metadata": {},
   "outputs": [],
   "source": [
    "# 1) Aşağıdaki String'in 5. harfini my_letter isimli bir değişkene atayınız."
   ]
  },
  {
   "cell_type": "code",
   "execution_count": 1,
   "id": "660a3002",
   "metadata": {},
   "outputs": [],
   "source": [
    "my_string = \"James Hetfield\"\n"
   ]
  },
  {
   "cell_type": "code",
   "execution_count": 2,
   "id": "29074933",
   "metadata": {},
   "outputs": [
    {
     "data": {
      "text/plain": [
       "'s'"
      ]
     },
     "execution_count": 2,
     "metadata": {},
     "output_type": "execute_result"
    }
   ],
   "source": [
    "my_string[4]"
   ]
  },
  {
   "cell_type": "code",
   "execution_count": null,
   "id": "2d6d5067",
   "metadata": {},
   "outputs": [],
   "source": [
    "# Aşağıdaki String'in 5. ve 8. karakteri arasındaki tüm harflerini yazdırınız (5 ve 8 dahil)"
   ]
  },
  {
   "cell_type": "code",
   "execution_count": 3,
   "id": "c51ff91a",
   "metadata": {},
   "outputs": [],
   "source": [
    "my_new_string = \"QuentinTarantino\""
   ]
  },
  {
   "cell_type": "code",
   "execution_count": 5,
   "id": "88635668",
   "metadata": {},
   "outputs": [
    {
     "data": {
      "text/plain": [
       "'tinT'"
      ]
     },
     "execution_count": 5,
     "metadata": {},
     "output_type": "execute_result"
    }
   ],
   "source": [
    "my_new_string[4:8]"
   ]
  },
  {
   "cell_type": "code",
   "execution_count": null,
   "id": "01a9d517",
   "metadata": {},
   "outputs": [],
   "source": [
    "# Aşağıdaki String'i kod ile tersten yazın"
   ]
  },
  {
   "cell_type": "code",
   "execution_count": 6,
   "id": "debc58f3",
   "metadata": {},
   "outputs": [],
   "source": [
    "my_last_string = \"Afyonkarahisarlılaştıramadıklarımızdanmısınız\"\n"
   ]
  },
  {
   "cell_type": "code",
   "execution_count": 8,
   "id": "ec63abe2",
   "metadata": {},
   "outputs": [
    {
     "data": {
      "text/plain": [
       "'zınısımnadzımıralkıdamarıtşalılrasiharaknoyfA'"
      ]
     },
     "execution_count": 8,
     "metadata": {},
     "output_type": "execute_result"
    }
   ],
   "source": [
    "my_last_string[::-1]"
   ]
  },
  {
   "cell_type": "markdown",
   "id": "bcbdbc6f",
   "metadata": {},
   "source": [
    "## Integer & Float"
   ]
  },
  {
   "cell_type": "code",
   "execution_count": 9,
   "id": "ae308c7a",
   "metadata": {},
   "outputs": [],
   "source": [
    "# 1) Aşağıdaki işlemin sonucu hangi veri tipinde olacaktır?"
   ]
  },
  {
   "cell_type": "code",
   "execution_count": 10,
   "id": "4cfb01ff",
   "metadata": {},
   "outputs": [
    {
     "data": {
      "text/plain": [
       "63.2"
      ]
     },
     "execution_count": 10,
     "metadata": {},
     "output_type": "execute_result"
    }
   ],
   "source": [
    "3 + 10.2 + 50"
   ]
  },
  {
   "cell_type": "code",
   "execution_count": 11,
   "id": "1bcd6c9b",
   "metadata": {},
   "outputs": [],
   "source": [
    "number = 3 + 10.2 + 50"
   ]
  },
  {
   "cell_type": "code",
   "execution_count": 12,
   "id": "9083a987",
   "metadata": {},
   "outputs": [
    {
     "data": {
      "text/plain": [
       "float"
      ]
     },
     "execution_count": 12,
     "metadata": {},
     "output_type": "execute_result"
    }
   ],
   "source": [
    "type(number)"
   ]
  },
  {
   "cell_type": "code",
   "execution_count": 13,
   "id": "e1574560",
   "metadata": {},
   "outputs": [],
   "source": [
    "# 2) Aşağıdaki işlemin sonucu kaçtır?"
   ]
  },
  {
   "cell_type": "code",
   "execution_count": 14,
   "id": "af8dfffc",
   "metadata": {},
   "outputs": [
    {
     "data": {
      "text/plain": [
       "101"
      ]
     },
     "execution_count": 14,
     "metadata": {},
     "output_type": "execute_result"
    }
   ],
   "source": [
    "5 + 8 * 12"
   ]
  },
  {
   "cell_type": "markdown",
   "id": "b1962469",
   "metadata": {},
   "source": [
    "## List & Dictionary & Set"
   ]
  },
  {
   "cell_type": "code",
   "execution_count": 15,
   "id": "b76e62ec",
   "metadata": {},
   "outputs": [],
   "source": [
    "# 1) Bu listeyi 3 farklı yoldan oluşturunuz: [1,2,\"a\"]\n"
   ]
  },
  {
   "cell_type": "code",
   "execution_count": 16,
   "id": "a633a5af",
   "metadata": {},
   "outputs": [],
   "source": [
    "my_list = [1,2,\"a\"]"
   ]
  },
  {
   "cell_type": "code",
   "execution_count": 17,
   "id": "41ec7c57",
   "metadata": {},
   "outputs": [],
   "source": [
    "my_list2 = []"
   ]
  },
  {
   "cell_type": "code",
   "execution_count": 18,
   "id": "c08c2a7e",
   "metadata": {},
   "outputs": [],
   "source": [
    "my_list2.append(1)"
   ]
  },
  {
   "cell_type": "code",
   "execution_count": 19,
   "id": "6ea405ae",
   "metadata": {},
   "outputs": [],
   "source": [
    "my_list2.append(2)"
   ]
  },
  {
   "cell_type": "code",
   "execution_count": 20,
   "id": "303d934b",
   "metadata": {},
   "outputs": [],
   "source": [
    "my_list2.append(\"a\")"
   ]
  },
  {
   "cell_type": "code",
   "execution_count": 21,
   "id": "d8e6f5ea",
   "metadata": {},
   "outputs": [
    {
     "data": {
      "text/plain": [
       "[1, 2, 'a']"
      ]
     },
     "execution_count": 21,
     "metadata": {},
     "output_type": "execute_result"
    }
   ],
   "source": [
    "my_list2"
   ]
  },
  {
   "cell_type": "code",
   "execution_count": 22,
   "id": "fe664c2f",
   "metadata": {},
   "outputs": [],
   "source": [
    "my_list3= list()"
   ]
  },
  {
   "cell_type": "code",
   "execution_count": 23,
   "id": "7a292296",
   "metadata": {},
   "outputs": [],
   "source": [
    "my_list3.append(1)"
   ]
  },
  {
   "cell_type": "code",
   "execution_count": 24,
   "id": "90083653",
   "metadata": {},
   "outputs": [],
   "source": [
    "my_list3.append(2)"
   ]
  },
  {
   "cell_type": "code",
   "execution_count": 25,
   "id": "85cf0d65",
   "metadata": {},
   "outputs": [],
   "source": [
    "my_list3.append(\"a\")"
   ]
  },
  {
   "cell_type": "code",
   "execution_count": 26,
   "id": "cb0ea962",
   "metadata": {},
   "outputs": [
    {
     "data": {
      "text/plain": [
       "[1, 2, 'a']"
      ]
     },
     "execution_count": 26,
     "metadata": {},
     "output_type": "execute_result"
    }
   ],
   "source": [
    "my_list3"
   ]
  },
  {
   "cell_type": "code",
   "execution_count": 27,
   "id": "61bbc686",
   "metadata": {},
   "outputs": [],
   "source": [
    "# 2) Aşağıdaki \"a\"'yı tek satırda alınız:"
   ]
  },
  {
   "cell_type": "code",
   "execution_count": 28,
   "id": "807acd8d",
   "metadata": {},
   "outputs": [],
   "source": [
    "my_list = [1,4,[2,3,\"a\"]]"
   ]
  },
  {
   "cell_type": "code",
   "execution_count": 29,
   "id": "534eaa59",
   "metadata": {},
   "outputs": [
    {
     "data": {
      "text/plain": [
       "'a'"
      ]
     },
     "execution_count": 29,
     "metadata": {},
     "output_type": "execute_result"
    }
   ],
   "source": [
    "my_list[2][2]"
   ]
  },
  {
   "cell_type": "code",
   "execution_count": 43,
   "id": "baaa6978",
   "metadata": {},
   "outputs": [],
   "source": [
    "# 3) Aşağıdaki \"b\"'yi tek satırda alınız:"
   ]
  },
  {
   "cell_type": "code",
   "execution_count": 44,
   "id": "8fef200e",
   "metadata": {},
   "outputs": [],
   "source": [
    "my_dictionary = {\"k1\":2, \"kk\":[4,{\"kkkk\":\"b\"}]}"
   ]
  },
  {
   "cell_type": "code",
   "execution_count": 46,
   "id": "8467e4e7",
   "metadata": {},
   "outputs": [
    {
     "data": {
      "text/plain": [
       "'b'"
      ]
     },
     "execution_count": 46,
     "metadata": {},
     "output_type": "execute_result"
    }
   ],
   "source": [
    "my_dictionary[\"kk\"][1][\"kkkk\"]"
   ]
  },
  {
   "cell_type": "code",
   "execution_count": 49,
   "id": "648b8b8d",
   "metadata": {},
   "outputs": [],
   "source": [
    "# 4) Aşağıdaki liste set'e çevirilince hangi değerler içinde kalacaktır?"
   ]
  },
  {
   "cell_type": "code",
   "execution_count": 51,
   "id": "8893693d",
   "metadata": {},
   "outputs": [],
   "source": [
    "my_list_to_be_set = [11,12,22,33,11,22,45,32,21,22,33,45]"
   ]
  },
  {
   "cell_type": "code",
   "execution_count": 52,
   "id": "95b595ec",
   "metadata": {},
   "outputs": [],
   "source": [
    "my_new_set = set(my_list_to_be_set)"
   ]
  },
  {
   "cell_type": "code",
   "execution_count": 54,
   "id": "1667fc6e",
   "metadata": {},
   "outputs": [
    {
     "data": {
      "text/plain": [
       "{11, 12, 21, 22, 32, 33, 45}"
      ]
     },
     "execution_count": 54,
     "metadata": {},
     "output_type": "execute_result"
    }
   ],
   "source": [
    "my_new_set"
   ]
  },
  {
   "cell_type": "markdown",
   "id": "bf44dd09",
   "metadata": {},
   "source": [
    "## Boolean"
   ]
  },
  {
   "cell_type": "code",
   "execution_count": 55,
   "id": "23cc68bb",
   "metadata": {},
   "outputs": [],
   "source": [
    "# 1) Aşağıdaki ifadenin sonucu ne olacaktır?"
   ]
  },
  {
   "cell_type": "code",
   "execution_count": 56,
   "id": "6fa745fd",
   "metadata": {},
   "outputs": [],
   "source": [
    "x = 40 * 5 + 3"
   ]
  },
  {
   "cell_type": "code",
   "execution_count": 57,
   "id": "89392c18",
   "metadata": {},
   "outputs": [],
   "source": [
    "y = 208 - 2 * 4"
   ]
  },
  {
   "cell_type": "code",
   "execution_count": 58,
   "id": "11a40e74",
   "metadata": {},
   "outputs": [
    {
     "data": {
      "text/plain": [
       "True"
      ]
     },
     "execution_count": 58,
     "metadata": {},
     "output_type": "execute_result"
    }
   ],
   "source": [
    "x>y"
   ]
  },
  {
   "cell_type": "code",
   "execution_count": 59,
   "id": "e42aa610",
   "metadata": {},
   "outputs": [],
   "source": [
    "# 2) Aşağıdaki ifadenin sonucu ne olacaktır?"
   ]
  },
  {
   "cell_type": "code",
   "execution_count": null,
   "id": "5561b16a",
   "metadata": {},
   "outputs": [],
   "source": []
  }
 ],
 "metadata": {
  "kernelspec": {
   "display_name": "Python 3 (ipykernel)",
   "language": "python",
   "name": "python3"
  },
  "language_info": {
   "codemirror_mode": {
    "name": "ipython",
    "version": 3
   },
   "file_extension": ".py",
   "mimetype": "text/x-python",
   "name": "python",
   "nbconvert_exporter": "python",
   "pygments_lexer": "ipython3",
   "version": "3.9.12"
  }
 },
 "nbformat": 4,
 "nbformat_minor": 5
}
